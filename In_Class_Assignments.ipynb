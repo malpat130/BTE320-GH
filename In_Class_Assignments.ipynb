{
  "nbformat": 4,
  "nbformat_minor": 0,
  "metadata": {
    "colab": {
      "provenance": [],
      "authorship_tag": "ABX9TyOFstvZGLOg9tr5lv5W40F/",
      "include_colab_link": true
    },
    "kernelspec": {
      "name": "python3",
      "display_name": "Python 3"
    },
    "language_info": {
      "name": "python"
    }
  },
  "cells": [
    {
      "cell_type": "markdown",
      "metadata": {
        "id": "view-in-github",
        "colab_type": "text"
      },
      "source": [
        "<a href=\"https://colab.research.google.com/github/malpat130/BTE320-GH/blob/main/In_Class_Assignments.ipynb\" target=\"_parent\"><img src=\"https://colab.research.google.com/assets/colab-badge.svg\" alt=\"Open In Colab\"/></a>"
      ]
    },
    {
      "cell_type": "code",
      "execution_count": null,
      "metadata": {
        "colab": {
          "base_uri": "https://localhost:8080/"
        },
        "id": "ofjbuW1LCouv",
        "outputId": "201d3627-efdc-41b6-d130-170673d8c0f2"
      },
      "outputs": [
        {
          "output_type": "stream",
          "name": "stdout",
          "text": [
            "244.92000000000002\n"
          ]
        }
      ],
      "source": [
        "r = 3\n",
        "pi = 3.14\n",
        "h = 10\n",
        "Area = 2*pi*r**2 + 2*pi*r*h\n",
        "\n",
        "print(Area)"
      ]
    },
    {
      "cell_type": "code",
      "source": [
        "p1 = input('choose rock, paper, or scissors')\n",
        "p2 = input('choose rock, paper, or scissors')\n",
        "if p1 == p2:\n",
        "  print('Draw')\n",
        "elif(p1 == 'rock' and p2 == 'scissors' or\n",
        "     p1 == 'scissors' and p2 == 'paper' or\n",
        "     p1 == 'paper' and p2 == 'rock'):\n",
        "  print(\"Person 1 wins\")\n",
        "else:\n",
        "    print(\"Person 2 wins\")\n"
      ],
      "metadata": {
        "id": "xm9-3juuLm1H",
        "colab": {
          "base_uri": "https://localhost:8080/"
        },
        "outputId": "53a04cac-3746-4f79-9f05-17cd328decf8"
      },
      "execution_count": null,
      "outputs": [
        {
          "output_type": "stream",
          "name": "stdout",
          "text": [
            "choose rock, paper, or scissorsrock\n",
            "choose rock, paper, or scissorspaper\n",
            "Person 2 wins\n"
          ]
        }
      ]
    },
    {
      "cell_type": "code",
      "source": [
        "n1 = float(input('enter a number'))\n",
        "n2 = float(input('enter another number'))\n",
        "symbol = input('choose an operation (+,-,*,/,**):')\n",
        "if symbol == '+':\n",
        "  print(n1 + n2)\n",
        "if symbol == '-':\n",
        "  print(n1 - n2)\n",
        "if symbol == '*':\n",
        "  print(n1 * n2)\n",
        "if symbol == '/':\n",
        "  print(n1 / n2)\n",
        "if symbol == '**':\n",
        "  print(n1 ** n2)\n",
        "else:\n",
        "  print(n1 ** n2)"
      ],
      "metadata": {
        "id": "QhDmK_ofWt8E"
      },
      "execution_count": null,
      "outputs": []
    },
    {
      "cell_type": "code",
      "source": [
        "#for i in range(2): will allow the game to only run twice\n",
        "game = input('Do you want to play a game (y/n):') #.lower() - regardless of how you type the string, it will bring all down to lowercase\n",
        "while game == 'yes':\n",
        "  p1 = input('choose rock, paper, or scissors')\n",
        "  p2 = input('choose rock, paper, or scissors') #if want random generator, do random.choice(['rock''paper','scissors'])\n",
        "  if p1 == p2:\n",
        "    print('Draw')\n",
        "  elif(p1 == 'rock' and p2 == 'scissors' or\n",
        "      p1 == 'scissors' and p2 == 'paper' or\n",
        "      p1 == 'paper' and p2 == 'rock'):\n",
        "    print(\"Person 1 wins\")\n",
        "  else:\n",
        "      print(\"Person 2 wins\")\n",
        "  game = input('Do you want to play another game (y/n):')\n"
      ],
      "metadata": {
        "colab": {
          "base_uri": "https://localhost:8080/"
        },
        "id": "Sda_PcyROfy9",
        "outputId": "97c314e0-d241-41b7-f2dd-b97de480c7d1"
      },
      "execution_count": null,
      "outputs": [
        {
          "name": "stdout",
          "output_type": "stream",
          "text": [
            "Do you want to play a game (y/n):yes\n",
            "choose rock, paper, or scissorsrock\n",
            "choose rock, paper, or scissorspaper\n",
            "Person 2 wins\n",
            "Do you want to play a game (y/n):no\n"
          ]
        }
      ]
    },
    {
      "cell_type": "code",
      "source": [
        "charge = 5.0\n",
        "rate = 2.50\n",
        "MinCharge = 10.0\n",
        "MaxCharge = 20.0\n",
        "Amount = 0\n",
        "for hour in range(1, 9, 1):\n",
        "  Amount = min(max(charge+ rate*hour,MinCharge),MaxCharge)\n",
        "  print(f'{Amount}')"
      ],
      "metadata": {
        "colab": {
          "base_uri": "https://localhost:8080/"
        },
        "id": "3YCMibE530Sr",
        "outputId": "ceee8223-7437-4b31-80dc-9b790a1f00dc"
      },
      "execution_count": null,
      "outputs": [
        {
          "output_type": "stream",
          "name": "stdout",
          "text": [
            "10.0\n",
            "10.0\n",
            "12.5\n",
            "15.0\n",
            "17.5\n",
            "20.0\n",
            "20.0\n",
            "20.0\n"
          ]
        }
      ]
    },
    {
      "cell_type": "code",
      "source": [
        "Ticket = 10\n",
        "BasePeople = 20\n",
        "Fixed = 200\n",
        "print('Ads',end=' ')\n",
        "print('profit')\n",
        "for AdSpend in range(0,201,25):\n",
        "  profit = Ticket*BasePeople + Ticket*(2*round(AdSpend**0.5)) - Fixed - AdSpend\n",
        "  print(f'{AdSpend} {profit}')"
      ],
      "metadata": {
        "colab": {
          "base_uri": "https://localhost:8080/"
        },
        "id": "dxLdGNJ_3sDy",
        "outputId": "c1094dd5-12c9-4c35-cbf7-b31046aa03ee"
      },
      "execution_count": null,
      "outputs": [
        {
          "output_type": "stream",
          "name": "stdout",
          "text": [
            "Ads profit\n",
            "0 0\n",
            "25 75\n",
            "50 90\n",
            "75 105\n",
            "100 100\n",
            "125 95\n",
            "150 90\n",
            "175 85\n",
            "200 80\n"
          ]
        }
      ]
    },
    {
      "cell_type": "code",
      "source": [
        "L = []\n",
        "\n",
        "item = int(input('Give a value:'))\n",
        "\n",
        "\n",
        "while item != 0:\n",
        "  L.append(item)\n",
        "  item = int(input('Give a value:'))\n",
        "\n",
        "print(L)\n"
      ],
      "metadata": {
        "colab": {
          "base_uri": "https://localhost:8080/"
        },
        "id": "28d4nYDsmRJs",
        "outputId": "de9a5b1a-5d11-4888-abe3-f577da7e36c5"
      },
      "execution_count": null,
      "outputs": [
        {
          "output_type": "stream",
          "name": "stdout",
          "text": [
            "Give a value:1\n",
            "Give a value:2\n",
            "Give a value:0\n",
            "[1, 2]\n"
          ]
        }
      ]
    },
    {
      "cell_type": "code",
      "source": [
        "L1 = [1,2,3,4]\n",
        "L2 = [1,2,5,6]\n",
        "\n",
        "for i in L1[:]:\n",
        "  if i in L2[:]:\n",
        "    L1.remove(i)\n",
        "\n",
        "print(L1)"
      ],
      "metadata": {
        "colab": {
          "base_uri": "https://localhost:8080/"
        },
        "id": "LGiOAfS0qMdc",
        "outputId": "557f4f3a-a1e7-4da0-8a69-49006f42ae71"
      },
      "execution_count": null,
      "outputs": [
        {
          "output_type": "stream",
          "name": "stdout",
          "text": [
            "[3, 4]\n"
          ]
        }
      ]
    },
    {
      "cell_type": "code",
      "source": [
        "months = {}\n",
        "\n",
        "names = [\"Jan\", \"Feb\", \"Mar\", \"Apr\", \"May\", \"Jun\", \"Jul\", \"Aug\", \"Sep\", \"Oct\", \"Nov\", \"Dec\"]\n",
        "numbers = [1,2,3,4,5,6,7,8,9,10,11,12]\n",
        "\n",
        "for i in range(len(numbers)):\n",
        "  months[numbers[i]] = names[i]\n",
        "\n",
        "print(months)"
      ],
      "metadata": {
        "colab": {
          "base_uri": "https://localhost:8080/"
        },
        "id": "MXjp3XJrafDW",
        "outputId": "09fc3dbe-89f0-4d69-ea61-ba45a638248f"
      },
      "execution_count": null,
      "outputs": [
        {
          "output_type": "stream",
          "name": "stdout",
          "text": [
            "{1: 'Jan', 2: 'Feb', 3: 'Mar', 4: 'Apr', 5: 'May', 6: 'Jun', 7: 'Jul', 8: 'Aug', 9: 'Sep', 10: 'Oct', 11: 'Nov', 12: 'Dec'}\n"
          ]
        }
      ]
    },
    {
      "cell_type": "code",
      "source": [
        "\n",
        "# Defining the constants\n",
        "r = 0.04  # Annual return rate on investments\n",
        "portion_down_payment = 0.25  # Down payment portion (25%)\n",
        "\n",
        "# Asking for user inputs\n",
        "annual_salary = float(input(\"Enter your starting annual salary: \"))\n",
        "portion_saved = float(input(\"Enter the portion of salary to be saved (in decimal form): \"))\n",
        "total_cost = float(input(\"Enter the cost of your dream home: \"))\n",
        "\n",
        "# Calculating the down payment required\n",
        "down_payment = total_cost * portion_down_payment\n",
        "\n",
        "# Initializing variables\n",
        "current_savings = 0  # Start with no savings\n",
        "months = 0  # Count of months needed\n",
        "\n",
        "# Monthly salary\n",
        "monthly_salary = annual_salary / 12\n",
        "\n",
        "# Iteratively calculate savings per month until enough for down payment\n",
        "while current_savings < down_payment:\n",
        "    # Add monthly savings from salary\n",
        "    current_savings += portion_saved * monthly_salary\n",
        "    # Add monthly return on investment\n",
        "    current_savings += current_savings * (r / 12)\n",
        "    months += 1  # Increase month count\n",
        "\n",
        "months\n"
      ],
      "metadata": {
        "colab": {
          "base_uri": "https://localhost:8080/"
        },
        "id": "Ebgum45jKfmK",
        "outputId": "a9108111-705d-4750-d348-3e7d7e600916"
      },
      "execution_count": null,
      "outputs": [
        {
          "name": "stdout",
          "output_type": "stream",
          "text": [
            "Enter your starting annual salary: 12000\n",
            "Enter the portion of salary to be saved (in decimal form): .10\n",
            "Enter the cost of your dream home: 1000000\n"
          ]
        },
        {
          "output_type": "execute_result",
          "data": {
            "text/plain": [
              "671"
            ]
          },
          "metadata": {},
          "execution_count": 3
        }
      ]
    },
    {
      "cell_type": "code",
      "source": [
        "# Defining the constants\n",
        "r = 0.04  # Annual return rate on investments\n",
        "portion_down_payment = 0.25  # Down payment portion (25%)\n",
        "\n",
        "# Asking for user inputs\n",
        "annual_salary = float(input(\"Enter your starting annual salary: \"))\n",
        "portion_saved = float(input(\"Enter the portion of salary to be saved (in decimal form): \"))\n",
        "total_cost = float(input(\"Enter the cost of your dream home: \"))\n",
        "semi_annual_raise = float(input(\"Enter your semi annual raise:\"))\n",
        "\n",
        "# Calculating the down payment required\n",
        "down_payment = total_cost * portion_down_payment\n",
        "\n",
        "# Initializing variables\n",
        "current_savings = 0  # Start with no savings\n",
        "months = 0  # Count of months needed\n",
        "\n",
        "# Monthly salary\n",
        "monthly_salary = annual_salary / 12\n",
        "\n",
        "# Iteratively calculate savings per month until enough for down payment\n",
        "while current_savings < down_payment:\n",
        "    # Add monthly savings from salary\n",
        "    current_savings += portion_saved * monthly_salary\n",
        "    # Add monthly return on investment\n",
        "    current_savings += current_savings * (r / 12)\n",
        "    if months % 6 == 0 and months > 0: #% makes it every 6 months\n",
        "            annual_salary += annual_salary * semi_annual_raise\n",
        "            monthly_salary = annual_salary / 12\n",
        "    months += 1  # Increase month count\n",
        "\n",
        "\n",
        "months"
      ],
      "metadata": {
        "colab": {
          "base_uri": "https://localhost:8080/"
        },
        "id": "cOFPOQAqNO8U",
        "outputId": "9b005b43-43dc-4b03-8f12-fa16f86f50ed"
      },
      "execution_count": null,
      "outputs": [
        {
          "name": "stdout",
          "output_type": "stream",
          "text": [
            "Enter your starting annual salary: 120000\n",
            "Enter the portion of salary to be saved (in decimal form): .05\n",
            "Enter the cost of your dream home: 500000\n",
            "Enter your semi annual raise:.03\n"
          ]
        },
        {
          "output_type": "execute_result",
          "data": {
            "text/plain": [
              "142"
            ]
          },
          "metadata": {},
          "execution_count": 8
        }
      ]
    },
    {
      "cell_type": "code",
      "source": [
        "# Approach 1: Function that prints the result\n",
        "def range_check_print(number, low, high):\n",
        "    if low <= number <= high:\n",
        "        print(f\"{number} is in the range between {low} and {high}.\")\n",
        "    else:\n",
        "        print(f\"{number} is NOT in the range between {low} and {high}.\")\n",
        "\n",
        "# Approach 2: Function that returns a boolean\n",
        "def range_check_bool(number, low, high):\n",
        "    return low <= number <= high\n",
        "\n",
        "# Test the functions with example values\n",
        "number = 10\n",
        "low = 5\n",
        "high = 15\n",
        "\n",
        "# Approach 1: Print result\n",
        "range_check_print(number, low, high)\n",
        "\n",
        "# Approach 2: Return boolean value\n",
        "is_in_range = range_check_bool(number, low, high)\n",
        "is_in_range\n"
      ],
      "metadata": {
        "colab": {
          "base_uri": "https://localhost:8080/"
        },
        "id": "NjxKVwyTOXTG",
        "outputId": "79f9c416-b0c5-402b-e621-bcf02e26f017"
      },
      "execution_count": null,
      "outputs": [
        {
          "output_type": "stream",
          "name": "stdout",
          "text": [
            "10 is in the range between 5 and 15.\n"
          ]
        },
        {
          "output_type": "execute_result",
          "data": {
            "text/plain": [
              "True"
            ]
          },
          "metadata": {},
          "execution_count": 9
        }
      ]
    },
    {
      "cell_type": "code",
      "source": [
        "def range_check(num, low, high):\n",
        "  if num >= low and num <= high:\n",
        "   return True\n",
        "  else:\n",
        "    return False"
      ],
      "metadata": {
        "id": "tgYNWpcQwTut"
      },
      "execution_count": null,
      "outputs": []
    },
    {
      "cell_type": "code",
      "source": [
        "print(range_check(2,1,3)) #if using key word, order doesnt matter ex. (num = 2, high = 3, low = 1) will still give same output\n"
      ],
      "metadata": {
        "colab": {
          "base_uri": "https://localhost:8080/"
        },
        "id": "fndvQi1pxKP9",
        "outputId": "47efea72-6b9e-47cf-9c0f-7c3ac41e93e0"
      },
      "execution_count": null,
      "outputs": [
        {
          "output_type": "stream",
          "name": "stdout",
          "text": [
            "True\n"
          ]
        }
      ]
    },
    {
      "cell_type": "code",
      "source": [
        "def calcFee(hours, decimals=2):  #hours is a placeholder, get the value required to calculate the fee\n",
        "  fee = round(5 + hours * 2.5, decimals)\n",
        "  return fee\n",
        "\n",
        "def displayFee(fee):\n",
        "  print(fee)\n",
        "\n",
        "hours_parked = int(input('Enter hours for parking:'))\n",
        "f = calcFee(hours_parked) #expression assigned to f\n",
        "displayFee(f) #if you do x = displayFee(f) and then print(x), you will get none"
      ],
      "metadata": {
        "colab": {
          "base_uri": "https://localhost:8080/"
        },
        "id": "BKQxDMs_gTz3",
        "outputId": "115ab0c4-119d-4733-f1ad-152f3e893c9f"
      },
      "execution_count": null,
      "outputs": [
        {
          "output_type": "stream",
          "name": "stdout",
          "text": [
            "Enter hours for parking:4\n",
            "15.0\n"
          ]
        }
      ]
    },
    {
      "cell_type": "code",
      "source": [
        "def rev(s):\n",
        "  if len(s) == 1:\n",
        "    return s\n",
        "  else:\n",
        "    return rev(s[1:]) + s[0]\n",
        "\n",
        "rev('hello')"
      ],
      "metadata": {
        "id": "OrZoqca8jdrQ",
        "colab": {
          "base_uri": "https://localhost:8080/",
          "height": 35
        },
        "outputId": "3e013e5a-f5c2-4adf-a45a-d87bd2db36b5"
      },
      "execution_count": null,
      "outputs": [
        {
          "output_type": "execute_result",
          "data": {
            "text/plain": [
              "'olleh'"
            ],
            "application/vnd.google.colaboratory.intrinsic+json": {
              "type": "string"
            }
          },
          "metadata": {},
          "execution_count": 9
        }
      ]
    },
    {
      "cell_type": "code",
      "source": [
        "\"\"\"Function that calculates the weighted average of a list L, given weights with function should\n",
        "-ZeroDivision Error (return empty list)\n",
        "-TypeError (returns empty list)\n",
        "-Any other unknown error (returns float('nan'))\"\"\"\n",
        "\n",
        "def wAvg(L,W):\n",
        "  res=[]\n",
        "  try:\n",
        "    for i in range(len(L)):\n",
        "      res.append(L[i]*W[i])\n",
        "    return sum(res)/sum(W)\n",
        "  except ZeroDivisionError:\n",
        "    print(\"Division by zero.\")\n",
        "    return[]\n",
        "  except TypeError:\n",
        "    print(\"Non-numerical objects found.\")\n",
        "    return[]\n",
        "  except Exception as e:\n",
        "    print(f\"Unknown error: {e}\")\n",
        "    return float('nan')\n",
        "\n",
        "wAvg([1,2,3], [.4,0,-.4])"
      ],
      "metadata": {
        "colab": {
          "base_uri": "https://localhost:8080/"
        },
        "id": "sI3t62z1nCgj",
        "outputId": "b4900e44-4ab6-42b0-b819-506f53e03bf6"
      },
      "execution_count": null,
      "outputs": [
        {
          "output_type": "stream",
          "name": "stdout",
          "text": [
            "Division by zero.\n"
          ]
        },
        {
          "output_type": "execute_result",
          "data": {
            "text/plain": [
              "[]"
            ]
          },
          "metadata": {},
          "execution_count": 1
        }
      ]
    },
    {
      "cell_type": "code",
      "source": [
        "class Student:\n",
        "  def __init__(self, name, number):\n",
        "    self.name = name\n",
        "    self.number = number\n",
        "\n",
        "  def __str__(self):\n",
        "    return f'Name: {self.name}.'"
      ],
      "metadata": {
        "id": "wSOYSe6D24c5"
      },
      "execution_count": null,
      "outputs": []
    },
    {
      "cell_type": "code",
      "source": [
        "class Student:\n",
        "  def __init__(self, name, number, course):\n",
        "    self.name = name\n",
        "    self.number = number\n",
        "    self.course = course\n",
        "\n",
        "  def set_name(self, newname):\n",
        "    self.name = newname\n",
        "\n",
        "  def get_name(self):\n",
        "    return self.name\n",
        "\n",
        "  def __repr__(self):\n",
        "    return f'Name: {self.name}'\n",
        "\n",
        "  def set_courses(self, newcourse):\n",
        "    self.course = newcourse\n",
        "\n",
        "  def get_courses(self):\n",
        "    return self.course"
      ],
      "metadata": {
        "id": "5OMREQxWH96U"
      },
      "execution_count": null,
      "outputs": []
    },
    {
      "cell_type": "code",
      "source": [
        "class Student:\n",
        "\n",
        "  def __init__(self, name, number):\n",
        "    self.name = name\n",
        "    self.number = number\n",
        "    self.courses = []\n",
        "\n",
        "  def enroll(self, course):\n",
        "    if course not in self.courses:\n",
        "      self.courses.append(course)\n",
        "    else:\n",
        "      print(f'You have already enrolled in class: {course}')\n",
        "\n",
        "  def get_courses(self):\n",
        "    return self.courses"
      ],
      "metadata": {
        "id": "_CMrkrETM5fv"
      },
      "execution_count": null,
      "outputs": []
    },
    {
      "cell_type": "code",
      "source": [
        "s = Student('Bob', '123')"
      ],
      "metadata": {
        "id": "IyPTnZzoPYCB"
      },
      "execution_count": null,
      "outputs": []
    },
    {
      "cell_type": "code",
      "source": [
        "s.enroll('ABC123')\n",
        "s.enroll('ABC456')\n",
        "s.enroll('ABC789')"
      ],
      "metadata": {
        "id": "ttR6VbBgPfiV"
      },
      "execution_count": null,
      "outputs": []
    },
    {
      "cell_type": "code",
      "source": [
        "s.get_courses()"
      ],
      "metadata": {
        "colab": {
          "base_uri": "https://localhost:8080/"
        },
        "id": "0tvbrclKP3gW",
        "outputId": "5d87fe3b-b842-40f0-a7d0-01ff1560a10f"
      },
      "execution_count": null,
      "outputs": [
        {
          "output_type": "execute_result",
          "data": {
            "text/plain": [
              "['ABC123', 'ABC456', 'ABC789']"
            ]
          },
          "metadata": {},
          "execution_count": 42
        }
      ]
    },
    {
      "cell_type": "code",
      "source": [
        "s.enroll('ABC123')"
      ],
      "metadata": {
        "colab": {
          "base_uri": "https://localhost:8080/"
        },
        "id": "GIvBZQXiP65B",
        "outputId": "2df2f8f6-d334-49b6-93b0-4de7c47729d8"
      },
      "execution_count": null,
      "outputs": [
        {
          "output_type": "stream",
          "name": "stdout",
          "text": [
            "You have already enrolled in class: ABC123\n"
          ]
        }
      ]
    },
    {
      "cell_type": "code",
      "source": [
        "s1 = Student(\"James Bond\", \"007\", \"BTE315\")\n",
        "s2 = Student (\"Clark Kent\", \"333\", \"BTE535\")"
      ],
      "metadata": {
        "id": "c-mZMrCw41qq"
      },
      "execution_count": null,
      "outputs": []
    },
    {
      "cell_type": "code",
      "source": [
        "s2.get_courses()"
      ],
      "metadata": {
        "colab": {
          "base_uri": "https://localhost:8080/",
          "height": 35
        },
        "id": "2TfUT-QAIQvN",
        "outputId": "0ac1e842-92ea-42b7-af3f-77b70f79a4aa"
      },
      "execution_count": null,
      "outputs": [
        {
          "output_type": "execute_result",
          "data": {
            "text/plain": [
              "'BTE535'"
            ],
            "application/vnd.google.colaboratory.intrinsic+json": {
              "type": "string"
            }
          },
          "metadata": {},
          "execution_count": 28
        }
      ]
    },
    {
      "cell_type": "code",
      "source": [
        "s2.set_name('Bob')\n",
        "s2.get_name()"
      ],
      "metadata": {
        "colab": {
          "base_uri": "https://localhost:8080/",
          "height": 35
        },
        "id": "b41pLypmIera",
        "outputId": "9ac754aa-9de7-415d-d93d-1031dab7f929"
      },
      "execution_count": null,
      "outputs": [
        {
          "output_type": "execute_result",
          "data": {
            "text/plain": [
              "'Bob'"
            ],
            "application/vnd.google.colaboratory.intrinsic+json": {
              "type": "string"
            }
          },
          "metadata": {},
          "execution_count": 14
        }
      ]
    },
    {
      "cell_type": "code",
      "source": [
        "s2.__name\n"
      ],
      "metadata": {
        "colab": {
          "base_uri": "https://localhost:8080/",
          "height": 144
        },
        "id": "HQLUAhtLJCp5",
        "outputId": "bab1186d-d585-4abb-bbf9-3dd1541d0745"
      },
      "execution_count": null,
      "outputs": [
        {
          "output_type": "error",
          "ename": "AttributeError",
          "evalue": "'Student' object has no attribute '__name'",
          "traceback": [
            "\u001b[0;31m---------------------------------------------------------------------------\u001b[0m",
            "\u001b[0;31mAttributeError\u001b[0m                            Traceback (most recent call last)",
            "\u001b[0;32m<ipython-input-17-9c36f1c3c1fb>\u001b[0m in \u001b[0;36m<cell line: 1>\u001b[0;34m()\u001b[0m\n\u001b[0;32m----> 1\u001b[0;31m \u001b[0ms2\u001b[0m\u001b[0;34m.\u001b[0m\u001b[0m__name\u001b[0m\u001b[0;34m\u001b[0m\u001b[0;34m\u001b[0m\u001b[0m\n\u001b[0m",
            "\u001b[0;31mAttributeError\u001b[0m: 'Student' object has no attribute '__name'"
          ]
        }
      ]
    },
    {
      "cell_type": "code",
      "source": [
        "print(s1) #better option"
      ],
      "metadata": {
        "colab": {
          "base_uri": "https://localhost:8080/"
        },
        "id": "zyBZzjFI5Akk",
        "outputId": "15221187-deaf-4658-b455-0a925dadfe33"
      },
      "execution_count": null,
      "outputs": [
        {
          "output_type": "stream",
          "name": "stdout",
          "text": [
            "Name: James Bond\n"
          ]
        }
      ]
    },
    {
      "cell_type": "code",
      "source": [
        "s1.name"
      ],
      "metadata": {
        "colab": {
          "base_uri": "https://localhost:8080/",
          "height": 35
        },
        "id": "2zh1Sbin5hgU",
        "outputId": "bf6888c4-3275-4b96-8981-b0493680c2f7"
      },
      "execution_count": null,
      "outputs": [
        {
          "output_type": "execute_result",
          "data": {
            "text/plain": [
              "'James Bond'"
            ],
            "application/vnd.google.colaboratory.intrinsic+json": {
              "type": "string"
            }
          },
          "metadata": {},
          "execution_count": 11
        }
      ]
    }
  ]
}